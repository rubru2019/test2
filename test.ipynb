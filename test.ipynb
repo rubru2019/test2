
{
 "cells": [
  {
   "cell_type": "markdown",
   "id": "f60ab8b8-381c-4676-a2c3-b78ef6e3ba58",
   "metadata": {},
   "source": [
    "# For Biostars https://www.biostars.org/p/9502587/\n",
    "\n",
    "See https://www.biostars.org/p/9502587/"
   ]
  },
  {
   "cell_type": "code",
   "execution_count": 1,
   "id": "ede86461-9bf1-4b4d-9e56-e4a69da236d8",
   "metadata": {},
   "outputs": [
    {
     "data": {
      "text/html": [
       "<div>\n",
       "<style scoped>\n",
       "    .dataframe tbody tr th:only-of-type {\n",
       "        vertical-align: middle;\n",
       "    }\n",
       "\n",
       "    .dataframe tbody tr th {\n",
       "        vertical-align: top;\n",
       "    }\n",
       "\n",
       "    .dataframe thead th {\n",
       "        text-align: right;\n",
       "    }\n",
       "</style>\n",
       "<table border=\"1\" class=\"dataframe\">\n",
       "  <thead>\n",
       "    <tr style=\"text-align: right;\">\n",
       "      <th></th>\n",
       "      <th>A</th>\n",
       "      <th>B</th>\n",
       "      <th>C</th>\n",
       "      <th>D</th>\n",
       "    </tr>\n",
       "  </thead>\n",
       "  <tbody>\n",
       "    <tr>\n",
       "      <th>0</th>\n",
       "      <td>Sample001</td>\n",
       "      <td>10.050909</td>\n",
       "      <td>47.809380</td>\n",
       "      <td>0</td>\n",
       "    </tr>\n",
       "    <tr>\n",
       "      <th>1</th>\n",
       "      <td>Sample002</td>\n",
       "      <td>87.467438</td>\n",
       "      <td>16.073652</td>\n",
       "      <td>0</td>\n",
       "    </tr>\n",
       "    <tr>\n",
       "      <th>2</th>\n",
       "      <td>Sample003</td>\n",
       "      <td>52.592303</td>\n",
       "      <td>84.550920</td>\n",
       "      <td>0</td>\n",
       "    </tr>\n",
       "    <tr>\n",
       "      <th>3</th>\n",
       "      <td>Sample004</td>\n",
       "      <td>7.191352</td>\n",
       "      <td>97.149418</td>\n",
       "      <td>0</td>\n",
       "    </tr>\n",
       "    <tr>\n",
       "      <th>4</th>\n",
       "      <td>Sample005</td>\n",
       "      <td>7.247809</td>\n",
       "      <td>94.281273</td>\n",
       "      <td>0</td>\n",
       "    </tr>\n",
       "    <tr>\n",
       "      <th>5</th>\n",
       "      <td>Sample006</td>\n",
       "      <td>92.237988</td>\n",
       "      <td>67.519471</td>\n",
       "      <td>0</td>\n",
       "    </tr>\n",
       "    <tr>\n",
       "      <th>6</th>\n",
       "      <td>Sample007</td>\n",
       "      <td>18.459786</td>\n",
       "      <td>91.910198</td>\n",
       "      <td>0</td>\n",
       "    </tr>\n",
       "    <tr>\n",
       "      <th>7</th>\n",
       "      <td>Sample008</td>\n",
       "      <td>49.190417</td>\n",
       "      <td>14.685278</td>\n",
       "      <td>0</td>\n",
       "    </tr>\n",
       "    <tr>\n",
       "      <th>8</th>\n",
       "      <td>Sample009</td>\n",
       "      <td>75.550560</td>\n",
       "      <td>51.601866</td>\n",
       "      <td>0</td>\n",
       "    </tr>\n",
       "    <tr>\n",
       "      <th>9</th>\n",
       "      <td>Sample010</td>\n",
       "      <td>96.480584</td>\n",
       "      <td>73.379443</td>\n",
       "      <td>0</td>\n",
       "    </tr>\n",
       "    <tr>\n",
       "      <th>10</th>\n",
       "      <td>Sample011</td>\n",
       "      <td>94.653988</td>\n",
       "      <td>22.448392</td>\n",
       "      <td>0</td>\n",
       "    </tr>\n",
       "  </tbody>\n",
       "</table>\n",
       "</div>"
      ],
      "text/plain": [
       "            A          B          C  D\n",
       "0   Sample001  10.050909  47.809380  0\n",
       "1   Sample002  87.467438  16.073652  0\n",
       "2   Sample003  52.592303  84.550920  0\n",
       "3   Sample004   7.191352  97.149418  0\n",
       "4   Sample005   7.247809  94.281273  0\n",
       "5   Sample006  92.237988  67.519471  0\n",
       "6   Sample007  18.459786  91.910198  0\n",
       "7   Sample008  49.190417  14.685278  0\n",
       "8   Sample009  75.550560  51.601866  0\n",
       "9   Sample010  96.480584  73.379443  0\n",
       "10  Sample011  94.653988  22.448392  0"
      ]
     },
     "execution_count": 1,
     "metadata": {},
     "output_type": "execute_result"
    }
   ],
   "source": [
    "#Make an example similar to input\n",
    "import pandas as pd\n",
    "import numpy as np\n",
    "import string\n",
    "col_num = 4\n",
    "df = pd.DataFrame(np.random.random((11,col_num))*100, columns=list(string.ascii_uppercase)[:col_num]) #columns letters of alphabet based on https://stackoverflow.com/a/48911848/8508004\n",
    "list = []\n",
    "for i in range(1, df.shape[0] + 1): # gets the length of the DataFrame.\n",
    "    list.append(f'Sample{i:03d}') # Using f-string for format and 03d for leading zeros.\n",
    "df['A'] = list\n",
    "df[\"D\"] = 0\n",
    "df"
   ]
  },
  {
   "cell_type": "code",
   "execution_count": 2,
   "id": "8e8c95b3-03f1-49cd-92dd-cc690fffed38",
   "metadata": {},
   "outputs": [
    {
     "data": {
      "text/html": [
       "<div>\n",
       "<style scoped>\n",
       "    .dataframe tbody tr th:only-of-type {\n",
       "        vertical-align: middle;\n",
       "    }\n",
       "\n",
       "    .dataframe tbody tr th {\n",
       "        vertical-align: top;\n",
       "    }\n",
       "\n",
       "    .dataframe thead th {\n",
       "        text-align: right;\n",
       "    }\n",
       "</style>\n",
       "<table border=\"1\" class=\"dataframe\">\n",
       "  <thead>\n",
       "    <tr style=\"text-align: right;\">\n",
       "      <th></th>\n",
       "      <th>A</th>\n",
       "      <th>B</th>\n",
       "      <th>C</th>\n",
       "      <th>D</th>\n",
       "    </tr>\n",
       "  </thead>\n",
       "  <tbody>\n",
       "    <tr>\n",
       "      <th>0</th>\n",
       "      <td>Sample001</td>\n",
       "      <td>10.050909</td>\n",
       "      <td>47.809380</td>\n",
       "      <td>0</td>\n",
       "    </tr>\n",
       "    <tr>\n",
       "      <th>1</th>\n",
       "      <td>Sample002</td>\n",
       "      <td>87.467438</td>\n",
       "      <td>16.073652</td>\n",
       "      <td>0</td>\n",
       "    </tr>\n",
       "    <tr>\n",
       "      <th>2</th>\n",
       "      <td>Sample003</td>\n",
       "      <td>52.592303</td>\n",
       "      <td>84.550920</td>\n",
       "      <td>0</td>\n",
       "    </tr>\n",
       "  </tbody>\n",
       "</table>\n",
       "</div>"
      ],
      "text/plain": [
       "           A          B          C  D\n",
       "0  Sample001  10.050909  47.809380  0\n",
       "1  Sample002  87.467438  16.073652  0\n",
       "2  Sample003  52.592303  84.550920  0"
      ]
     },
     "execution_count": 2,
     "metadata": {},
     "output_type": "execute_result"
    }
   ],
   "source": [
    "df.iloc[0:3]"
   ]
  },
  {
   "cell_type": "code",
   "execution_count": 3,
   "id": "7e7bb639-da90-4062-be12-afb59c96247b",
   "metadata": {},
   "outputs": [
    {
     "data": {
      "text/html": [
       "<div>\n",
       "<style scoped>\n",
       "    .dataframe tbody tr th:only-of-type {\n",
       "        vertical-align: middle;\n",
       "    }\n",
       "\n",
       "    .dataframe tbody tr th {\n",
       "        vertical-align: top;\n",
       "    }\n",
       "\n",
       "    .dataframe thead th {\n",
       "        text-align: right;\n",
       "    }\n",
       "</style>\n",
       "<table border=\"1\" class=\"dataframe\">\n",
       "  <thead>\n",
       "    <tr style=\"text-align: right;\">\n",
       "      <th></th>\n",
       "      <th>A</th>\n",
       "      <th>B</th>\n",
       "      <th>C</th>\n",
       "      <th>D</th>\n",
       "    </tr>\n",
       "  </thead>\n",
       "  <tbody>\n",
       "    <tr>\n",
       "      <th>8</th>\n",
       "      <td>Sample009</td>\n",
       "      <td>75.550560</td>\n",
       "      <td>51.601866</td>\n",
       "      <td>0</td>\n",
       "    </tr>\n",
       "    <tr>\n",
       "      <th>9</th>\n",
       "      <td>Sample010</td>\n",
       "      <td>96.480584</td>\n",
       "      <td>73.379443</td>\n",
       "      <td>0</td>\n",
       "    </tr>\n",
       "    <tr>\n",
       "      <th>10</th>\n",
       "      <td>Sample011</td>\n",
       "      <td>94.653988</td>\n",
       "      <td>22.448392</td>\n",
       "      <td>0</td>\n",
       "    </tr>\n",
       "  </tbody>\n",
       "</table>\n",
       "</div>"
      ],
      "text/plain": [
       "            A          B          C  D\n",
       "8   Sample009  75.550560  51.601866  0\n",
       "9   Sample010  96.480584  73.379443  0\n",
       "10  Sample011  94.653988  22.448392  0"
      ]
     },
     "execution_count": 3,
     "metadata": {},
     "output_type": "execute_result"
    }
   ],
   "source": [
    "df.iloc[8:]"
   ]
  },
  {
   "cell_type": "markdown",
   "id": "68cd1b27-c0a7-41e1-b8be-3726cb754c17",
   "metadata": {},
   "source": [
    "Above shows set-up and the main 'top' and 'bottom' to merge.\n",
    "\n",
    "-------------------------------\n",
    "\n",
    "### Make the sum data for the row."
   ]
  },
  {
   "cell_type": "code",
   "execution_count": 4,
   "id": "15008eba-5668-4fc8-9760-7d34ed48df29",
   "metadata": {},
   "outputs": [
    {
     "data": {
      "text/plain": [
       "A    Sample004Sample005Sample006Sample007Sample008\n",
       "B                                       174.327351\n",
       "C                                       365.545638\n",
       "D                                                0\n",
       "dtype: object"
      ]
     },
     "execution_count": 4,
     "metadata": {},
     "output_type": "execute_result"
    }
   ],
   "source": [
    "dfn = df.iloc[3:8].sum(0)\n",
    "dfn"
   ]
  },
  {
   "cell_type": "code",
   "execution_count": 5,
   "id": "8fc78d15-d0cd-4ad8-9fad-af3666285549",
   "metadata": {},
   "outputs": [
    {
     "data": {
      "text/plain": [
       "pandas.core.series.Series"
      ]
     },
     "execution_count": 5,
     "metadata": {},
     "output_type": "execute_result"
    }
   ],
   "source": [
    "type(dfn)"
   ]
  },
  {
   "cell_type": "markdown",
   "id": "56c3bff7-6009-4c3c-86b8-9a083d46d961",
   "metadata": {},
   "source": [
    "Replace the moot value in column A with a number so that `pivot_table` below works easily. "
   ]
  },
  {
   "cell_type": "code",
   "execution_count": 6,
   "id": "dc3b72cf-b28e-4f97-bc2f-1be4e9838277",
   "metadata": {},
   "outputs": [],
   "source": [
    "# replace the moot value in column A with a number so that `pivot_table` below works easily. \n",
    "dfn.A = 13"
   ]
  },
  {
   "cell_type": "code",
   "execution_count": 7,
   "id": "ffd305c6-b292-4d7f-ad25-3cc225a22f91",
   "metadata": {},
   "outputs": [
    {
     "data": {
      "text/plain": [
       "A            13\n",
       "B    174.327351\n",
       "C    365.545638\n",
       "D             0\n",
       "dtype: object"
      ]
     },
     "execution_count": 7,
     "metadata": {},
     "output_type": "execute_result"
    }
   ],
   "source": [
    "dfn"
   ]
  },
  {
   "cell_type": "code",
   "execution_count": 8,
   "id": "8aa5b57c-c760-43cb-935f-a55d2b0abdd5",
   "metadata": {},
   "outputs": [
    {
     "data": {
      "text/html": [
       "<div>\n",
       "<style scoped>\n",
       "    .dataframe tbody tr th:only-of-type {\n",
       "        vertical-align: middle;\n",
       "    }\n",
       "\n",
       "    .dataframe tbody tr th {\n",
       "        vertical-align: top;\n",
       "    }\n",
       "\n",
       "    .dataframe thead th {\n",
       "        text-align: right;\n",
       "    }\n",
       "</style>\n",
       "<table border=\"1\" class=\"dataframe\">\n",
       "  <thead>\n",
       "    <tr style=\"text-align: right;\">\n",
       "      <th></th>\n",
       "      <th>A</th>\n",
       "      <th>B</th>\n",
       "      <th>C</th>\n",
       "      <th>D</th>\n",
       "    </tr>\n",
       "  </thead>\n",
       "  <tbody>\n",
       "    <tr>\n",
       "      <th>0</th>\n",
       "      <td>13.0</td>\n",
       "      <td>174.327351</td>\n",
       "      <td>365.545638</td>\n",
       "      <td>0.0</td>\n",
       "    </tr>\n",
       "  </tbody>\n",
       "</table>\n",
       "</div>"
      ],
      "text/plain": [
       "      A           B           C    D\n",
       "0  13.0  174.327351  365.545638  0.0"
      ]
     },
     "execution_count": 8,
     "metadata": {},
     "output_type": "execute_result"
    }
   ],
   "source": [
    "reoriented_dfn = pd.pivot_table(dfn.to_frame(), columns = dfn.index) #pivot_table from https://stackoverflow.com/a/28337349/8508004 \n",
    "reoriented_dfn"
   ]
  },
  {
   "cell_type": "markdown",
   "id": "e3449810-d5db-412e-a521-6b15cc0cecc8",
   "metadata": {},
   "source": [
    "That makes the sum line we'll need to put between top and bottom. Disregard the moot content in column A as we'll fix it shortly. (Putting a number there worked to allow the pivot easy. I developed that column with random numbers and so I knew it worked when that was a number. Had issues when I went to make column A be text strings.)"
   ]
  },
  {
   "cell_type": "markdown",
   "id": "ef713e6d-7d8c-44b0-bbd1-ce557b8ef81b",
   "metadata": {},
   "source": [
    "#### Concatenate the parts into one dataframe."
   ]
  },
  {
   "cell_type": "code",
   "execution_count": 9,
   "id": "34551930-9329-4f81-a3c1-0dcc6bc21850",
   "metadata": {},
   "outputs": [
    {
     "data": {
      "text/html": [
       "<div>\n",
       "<style scoped>\n",
       "    .dataframe tbody tr th:only-of-type {\n",
       "        vertical-align: middle;\n",
       "    }\n",
       "\n",
       "    .dataframe tbody tr th {\n",
       "        vertical-align: top;\n",
       "    }\n",
       "\n",
       "    .dataframe thead th {\n",
       "        text-align: right;\n",
       "    }\n",
       "</style>\n",
       "<table border=\"1\" class=\"dataframe\">\n",
       "  <thead>\n",
       "    <tr style=\"text-align: right;\">\n",
       "      <th></th>\n",
       "      <th>A</th>\n",
       "      <th>B</th>\n",
       "      <th>C</th>\n",
       "      <th>D</th>\n",
       "    </tr>\n",
       "  </thead>\n",
       "  <tbody>\n",
       "    <tr>\n",
       "      <th>0</th>\n",
       "      <td>Sample001</td>\n",
       "      <td>10.050909</td>\n",
       "      <td>47.809380</td>\n",
       "      <td>0.0</td>\n",
       "    </tr>\n",
       "    <tr>\n",
       "      <th>1</th>\n",
       "      <td>Sample002</td>\n",
       "      <td>87.467438</td>\n",
       "      <td>16.073652</td>\n",
       "      <td>0.0</td>\n",
       "    </tr>\n",
       "    <tr>\n",
       "      <th>2</th>\n",
       "      <td>Sample003</td>\n",
       "      <td>52.592303</td>\n",
       "      <td>84.550920</td>\n",
       "      <td>0.0</td>\n",
       "    </tr>\n",
       "    <tr>\n",
       "      <th>3</th>\n",
       "      <td>13.0</td>\n",
       "      <td>174.327351</td>\n",
       "      <td>365.545638</td>\n",
       "      <td>0.0</td>\n",
       "    </tr>\n",
       "    <tr>\n",
       "      <th>4</th>\n",
       "      <td>Sample009</td>\n",
       "      <td>75.550560</td>\n",
       "      <td>51.601866</td>\n",
       "      <td>0.0</td>\n",
       "    </tr>\n",
       "    <tr>\n",
       "      <th>5</th>\n",
       "      <td>Sample010</td>\n",
       "      <td>96.480584</td>\n",
       "      <td>73.379443</td>\n",
       "      <td>0.0</td>\n",
       "    </tr>\n",
       "    <tr>\n",
       "      <th>6</th>\n",
       "      <td>Sample011</td>\n",
       "      <td>94.653988</td>\n",
       "      <td>22.448392</td>\n",
       "      <td>0.0</td>\n",
       "    </tr>\n",
       "  </tbody>\n",
       "</table>\n",
       "</div>"
      ],
      "text/plain": [
       "           A           B           C    D\n",
       "0  Sample001   10.050909   47.809380  0.0\n",
       "1  Sample002   87.467438   16.073652  0.0\n",
       "2  Sample003   52.592303   84.550920  0.0\n",
       "3       13.0  174.327351  365.545638  0.0\n",
       "4  Sample009   75.550560   51.601866  0.0\n",
       "5  Sample010   96.480584   73.379443  0.0\n",
       "6  Sample011   94.653988   22.448392  0.0"
      ]
     },
     "execution_count": 9,
     "metadata": {},
     "output_type": "execute_result"
    }
   ],
   "source": [
    "dff = pd.concat([df.iloc[0:3], reoriented_dfn,df.iloc[8:]], ignore_index=True)\n",
    "dff"
   ]
  },
  {
   "cell_type": "code",
   "execution_count": 10,
   "id": "376f55b2-e52f-4922-b7bd-c512cd470426",
   "metadata": {},
   "outputs": [
    {
     "data": {
      "text/html": [
       "<div>\n",
       "<style scoped>\n",
       "    .dataframe tbody tr th:only-of-type {\n",
       "        vertical-align: middle;\n",
       "    }\n",
       "\n",
       "    .dataframe tbody tr th {\n",
       "        vertical-align: top;\n",
       "    }\n",
       "\n",
       "    .dataframe thead th {\n",
       "        text-align: right;\n",
       "    }\n",
       "</style>\n",
       "<table border=\"1\" class=\"dataframe\">\n",
       "  <thead>\n",
       "    <tr style=\"text-align: right;\">\n",
       "      <th></th>\n",
       "      <th>A</th>\n",
       "      <th>B</th>\n",
       "      <th>C</th>\n",
       "      <th>D</th>\n",
       "    </tr>\n",
       "  </thead>\n",
       "  <tbody>\n",
       "    <tr>\n",
       "      <th>0</th>\n",
       "      <td>Sample001</td>\n",
       "      <td>10.050909</td>\n",
       "      <td>47.809380</td>\n",
       "      <td>0.0</td>\n",
       "    </tr>\n",
       "    <tr>\n",
       "      <th>1</th>\n",
       "      <td>Sample002</td>\n",
       "      <td>87.467438</td>\n",
       "      <td>16.073652</td>\n",
       "      <td>0.0</td>\n",
       "    </tr>\n",
       "    <tr>\n",
       "      <th>2</th>\n",
       "      <td>Sample003</td>\n",
       "      <td>52.592303</td>\n",
       "      <td>84.550920</td>\n",
       "      <td>0.0</td>\n",
       "    </tr>\n",
       "    <tr>\n",
       "      <th>3</th>\n",
       "      <td>Total</td>\n",
       "      <td>174.327351</td>\n",
       "      <td>365.545638</td>\n",
       "      <td>0.0</td>\n",
       "    </tr>\n",
       "    <tr>\n",
       "      <th>4</th>\n",
       "      <td>Sample009</td>\n",
       "      <td>75.550560</td>\n",
       "      <td>51.601866</td>\n",
       "      <td>0.0</td>\n",
       "    </tr>\n",
       "    <tr>\n",
       "      <th>5</th>\n",
       "      <td>Sample010</td>\n",
       "      <td>96.480584</td>\n",
       "      <td>73.379443</td>\n",
       "      <td>0.0</td>\n",
       "    </tr>\n",
       "    <tr>\n",
       "      <th>6</th>\n",
       "      <td>Sample011</td>\n",
       "      <td>94.653988</td>\n",
       "      <td>22.448392</td>\n",
       "      <td>0.0</td>\n",
       "    </tr>\n",
       "  </tbody>\n",
       "</table>\n",
       "</div>"
      ],
      "text/plain": [
       "           A           B           C    D\n",
       "0  Sample001   10.050909   47.809380  0.0\n",
       "1  Sample002   87.467438   16.073652  0.0\n",
       "2  Sample003   52.592303   84.550920  0.0\n",
       "3      Total  174.327351  365.545638  0.0\n",
       "4  Sample009   75.550560   51.601866  0.0\n",
       "5  Sample010   96.480584   73.379443  0.0\n",
       "6  Sample011   94.653988   22.448392  0.0"
      ]
     },
     "execution_count": 10,
     "metadata": {},
     "output_type": "execute_result"
    }
   ],
   "source": [
    "# Fix the moot value in column A for summed rows\n",
    "dff.at[3,'A'] = \"Total\"  # based on https://stackoverflow.com/a/13842286/8508004\n",
    "dff"
   ]
  },
  {
   "cell_type": "code",
   "execution_count": null,
   "id": "4c7c6309-fbe0-48d8-9a48-c6e1c851e2a8",
   "metadata": {},
   "outputs": [],
   "source": []
  }
 ],
 "metadata": {
  "kernelspec": {
   "display_name": "Python 3 (ipykernel)",
   "language": "python",
   "name": "python3"
  },
  "language_info": {
   "codemirror_mode": {
    "name": "ipython",
    "version": 3
   },
   "file_extension": ".py",
   "mimetype": "text/x-python",
   "name": "python",
   "nbconvert_exporter": "python",
   "pygments_lexer": "ipython3",
   "version": "3.7.12"
  }
 },
 "nbformat": 4,
 "nbformat_minor": 5
}
