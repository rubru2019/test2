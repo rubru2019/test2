{
  "cells": [
    {
      "cell_type": "code",
      "execution_count": 1,
      "id": "4c7c6309-fbe0-48d8-9a48-c6e1c851e2a8",
      "metadata": {
        "id": "4c7c6309-fbe0-48d8-9a48-c6e1c851e2a8",
        "outputId": "46d2c0b3-ea1a-4c18-ae72-33a8516ee4df",
        "colab": {
          "base_uri": "https://localhost:8080/"
        }
      },
      "outputs": [
        {
          "output_type": "stream",
          "name": "stdout",
          "text": [
            "hello\n"
          ]
        }
      ],
      "source": [
        "print(\"hello\")"
      ]
    }
  ],
  "metadata": {
    "kernelspec": {
      "display_name": "Python 3 (ipykernel)",
      "language": "python",
      "name": "python3"
    },
    "language_info": {
      "codemirror_mode": {
        "name": "ipython",
        "version": 3
      },
      "file_extension": ".py",
      "mimetype": "text/x-python",
      "name": "python",
      "nbconvert_exporter": "python",
      "pygments_lexer": "ipython3",
      "version": "3.7.12"
    },
    "colab": {
      "provenance": []
    }
  },
  "nbformat": 4,
  "nbformat_minor": 5
}